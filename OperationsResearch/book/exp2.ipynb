{
 "cells": [
  {
   "cell_type": "code",
   "execution_count": 4,
   "metadata": {
    "collapsed": true,
    "pycharm": {
     "is_executing": false
    }
   },
   "outputs": [],
   "source": [
    "from pyomo.environ import SolverFactory, ConstraintList, ConcreteModel, Var, NonNegativeIntegers, NonNegativeReals, \\\n",
    "    Objective, SolverFactory, assert_optimal_termination\n",
    "import pandas as pd"
   ]
  },
  {
   "cell_type": "code",
   "execution_count": 2,
   "outputs": [],
   "source": [
    "# page 94 例1 \n",
    "# 三个加工厂A1 A2 A3, 生产量7， 4， 9\n",
    "# 四个销售点B1, B2, B3, B4， 需求3，6，5，6\n",
    "# 求最优调度"
   ],
   "metadata": {
    "collapsed": false,
    "pycharm": {
     "name": "#%%\n",
     "is_executing": false
    }
   }
  },
  {
   "cell_type": "code",
   "execution_count": 2,
   "outputs": [
    {
     "data": {
      "text/plain": "    B1  B2  B3  B4\nA1   3  11   3  10\nA2   1   9   2   8\nA3   7   4  10   5",
      "text/html": "<div>\n<style scoped>\n    .dataframe tbody tr th:only-of-type {\n        vertical-align: middle;\n    }\n\n    .dataframe tbody tr th {\n        vertical-align: top;\n    }\n\n    .dataframe thead th {\n        text-align: right;\n    }\n</style>\n<table border=\"1\" class=\"dataframe\">\n  <thead>\n    <tr style=\"text-align: right;\">\n      <th></th>\n      <th>B1</th>\n      <th>B2</th>\n      <th>B3</th>\n      <th>B4</th>\n    </tr>\n  </thead>\n  <tbody>\n    <tr>\n      <th>A1</th>\n      <td>3</td>\n      <td>11</td>\n      <td>3</td>\n      <td>10</td>\n    </tr>\n    <tr>\n      <th>A2</th>\n      <td>1</td>\n      <td>9</td>\n      <td>2</td>\n      <td>8</td>\n    </tr>\n    <tr>\n      <th>A3</th>\n      <td>7</td>\n      <td>4</td>\n      <td>10</td>\n      <td>5</td>\n    </tr>\n  </tbody>\n</table>\n</div>"
     },
     "metadata": {},
     "output_type": "execute_result",
     "execution_count": 2
    }
   ],
   "source": [
    "factory = {\"A1\": 7, \"A2\": 4, \"A3\": 9}\n",
    "market = {\"B1\": 3, \"B2\": 6, \"B3\": 5, \"B4\": 6}\n",
    "cost_price = {\n",
    "    (\"A1\", \"B1\"): 3,\n",
    "    (\"A1\", \"B2\"): 11,\n",
    "    (\"A1\", \"B3\"): 3,\n",
    "    (\"A1\", \"B4\"): 10,\n",
    "    (\"A2\", \"B1\"): 1,\n",
    "    (\"A2\", \"B2\"): 9,\n",
    "    (\"A2\", \"B3\"): 2,\n",
    "    (\"A2\", \"B4\"): 8,\n",
    "    (\"A3\", \"B1\"): 7,\n",
    "    (\"A3\", \"B2\"): 4,\n",
    "    (\"A3\", \"B3\"): 10,\n",
    "    (\"A3\", \"B4\"): 5,\n",
    "}\n",
    "df = pd.DataFrame(0, index=factory, columns=market)\n",
    "for (x, y), v in cost_price.items():\n",
    "    df.loc[x, y] = v\n",
    "df"
   ],
   "metadata": {
    "collapsed": false,
    "pycharm": {
     "name": "#%%\n",
     "is_executing": false
    }
   }
  },
  {
   "cell_type": "code",
   "execution_count": 3,
   "outputs": [],
   "source": [
    "# 建模编码\n",
    "model = ConcreteModel()\n",
    "\n",
    "model.x = Var(factory, market, domain=NonNegativeReals)\n",
    "\n",
    "model.cost = Objective(expr=sum(model.x[x, y] * cost_price[(x, y)] for x in factory for y in market),\n",
    "                       sense=minimize)\n",
    "\n",
    "model.supply = ConstraintList()\n",
    "for f, v in factory.items():\n",
    "    model.supply.add(expr=sum(model.x[f, m] for m in market) == v)\n",
    "model.demand = ConstraintList()\n",
    "for m, v in market.items():\n",
    "    model.demand.add(expr=sum(model.x[f, m] for f in factory) == v)\n"
   ],
   "metadata": {
    "collapsed": false,
    "pycharm": {
     "name": "#%%\n",
     "is_executing": false
    }
   }
  },
  {
   "cell_type": "code",
   "execution_count": 5,
   "outputs": [],
   "source": [
    "# 丢进求解器\n",
    "SolverFactory('glpk', executable='/usr/local/bin/glpsol').solve(model)"
   ],
   "metadata": {
    "collapsed": false,
    "pycharm": {
     "name": "#%%\n",
     "is_executing": false
    }
   }
  },
  {
   "cell_type": "code",
   "execution_count": 12,
   "outputs": [
    {
     "name": "stdout",
     "text": [
      "\n==Solution==\nmin cost = 85\n"
     ],
     "output_type": "stream"
    },
    {
     "data": {
      "text/plain": "    B1  B2  B3  B4\nA1   0   0   5   2\nA2   3   0   0   1\nA3   0   6   0   3",
      "text/html": "<div>\n<style scoped>\n    .dataframe tbody tr th:only-of-type {\n        vertical-align: middle;\n    }\n\n    .dataframe tbody tr th {\n        vertical-align: top;\n    }\n\n    .dataframe thead th {\n        text-align: right;\n    }\n</style>\n<table border=\"1\" class=\"dataframe\">\n  <thead>\n    <tr style=\"text-align: right;\">\n      <th></th>\n      <th>B1</th>\n      <th>B2</th>\n      <th>B3</th>\n      <th>B4</th>\n    </tr>\n  </thead>\n  <tbody>\n    <tr>\n      <th>A1</th>\n      <td>0</td>\n      <td>0</td>\n      <td>5</td>\n      <td>2</td>\n    </tr>\n    <tr>\n      <th>A2</th>\n      <td>3</td>\n      <td>0</td>\n      <td>0</td>\n      <td>1</td>\n    </tr>\n    <tr>\n      <th>A3</th>\n      <td>0</td>\n      <td>6</td>\n      <td>0</td>\n      <td>3</td>\n    </tr>\n  </tbody>\n</table>\n</div>"
     },
     "metadata": {},
     "output_type": "execute_result",
     "execution_count": 12
    }
   ],
   "source": [
    "print(f\"min cost = {model.cost()}\")\n",
    "df = pd.DataFrame(0, index=factory, columns=market)\n",
    "for x, y in cost_price:\n",
    "    df.loc[x, y] = model.x[x, y]()\n",
    "df"
   ],
   "metadata": {
    "collapsed": false,
    "pycharm": {
     "name": "#%%\n",
     "is_executing": false
    }
   }
  },
  {
   "cell_type": "code",
   "execution_count": 6,
   "outputs": [],
   "source": [
    "\n"
   ],
   "metadata": {
    "collapsed": false,
    "pycharm": {
     "name": "#%%\n",
     "is_executing": false
    }
   }
  }
 ],
 "metadata": {
  "kernelspec": {
   "display_name": "Python 3",
   "language": "python",
   "name": "python3"
  },
  "language_info": {
   "codemirror_mode": {
    "name": "ipython",
    "version": 2
   },
   "file_extension": ".py",
   "mimetype": "text/x-python",
   "name": "python",
   "nbconvert_exporter": "python",
   "pygments_lexer": "ipython2",
   "version": "2.7.6"
  },
  "pycharm": {
   "stem_cell": {
    "cell_type": "raw",
    "source": [],
    "metadata": {
     "collapsed": false
    }
   }
  }
 },
 "nbformat": 4,
 "nbformat_minor": 0
}